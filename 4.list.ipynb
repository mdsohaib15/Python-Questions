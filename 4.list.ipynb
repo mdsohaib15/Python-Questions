{
 "cells": [
  {
   "cell_type": "code",
   "execution_count": 7,
   "metadata": {},
   "outputs": [
    {
     "name": "stdout",
     "output_type": "stream",
     "text": [
      "sum of list is : 14\n"
     ]
    }
   ],
   "source": [
    "# 1. Write a Python program to sum all the items in a list.\n",
    "li = [1,2,3,4,5]\n",
    "sum = li[0]+li[1]+li[2]+li[3]+li[4]\n",
    "print(\"sum of list is :\",sum)\n"
   ]
  },
  {
   "cell_type": "code",
   "execution_count": 8,
   "metadata": {},
   "outputs": [
    {
     "name": "stdout",
     "output_type": "stream",
     "text": [
      "Original List: [1, 2, 3, 4, 5]\n",
      "Product of all elements in the list is :  1\n",
      "Product of all elements in the list is :  2\n",
      "Product of all elements in the list is :  6\n",
      "Product of all elements in the list is :  24\n",
      "Product of all elements in the list is :  120\n"
     ]
    }
   ],
   "source": [
    "# 2. Write a Python program to multiply all the items in a list.\n",
    "l1 = [1,2,3,4,5,]\n",
    "print(\"Original List:\", l1)\n",
    "product=1\n",
    "for i in l1:\n",
    "          product *=i\n",
    "          print(\"Product of all elements in the list is : \",product)\n"
   ]
  },
  {
   "cell_type": "code",
   "execution_count": 15,
   "metadata": {},
   "outputs": [
    {
     "name": "stdout",
     "output_type": "stream",
     "text": [
      "largest number of the list is:  20\n"
     ]
    }
   ],
   "source": [
    "'''USE OF max() FUNCTION IN LISTS'''\n",
    "# 3. Write a Python program to get the largest number from a list.\n",
    "num = [2,5,8,10,20]\n",
    "max_num = max(num)\n",
    "print(\"largest number of the list is: \",max_num)"
   ]
  },
  {
   "cell_type": "code",
   "execution_count": 16,
   "metadata": {},
   "outputs": [
    {
     "name": "stdout",
     "output_type": "stream",
     "text": [
      "The smallest number in the list is: 2\n"
     ]
    }
   ],
   "source": [
    "'''USE OF min() FUNCTION IN LISTS'''\n",
    "# 4. Write a Python program to get the smallest number from a list.\n",
    "num = [2,5,6,8,24,34,33]\n",
    "min_num = min(num)\n",
    "print(\"The smallest number in the list is:\", min_num)"
   ]
  },
  {
   "cell_type": "code",
   "execution_count": 36,
   "metadata": {},
   "outputs": [
    {
     "name": "stdout",
     "output_type": "stream",
     "text": [
      "Number of times 'abc' appears in the list is 2\n"
     ]
    }
   ],
   "source": [
    "# 5. Write a Python program to count the number of strings from a given list of strings. The string length is 2 or more and the first and last characters are the same.\n",
    "'''USE OF count() FUNCTION:'''\n",
    "# count() returns the number of elements with the specified value means element are repeated in a list \n",
    "list = ['abc', 'xyz', 'abc', '1221']\n",
    "print(f\"Number of times 'abc' appears in the list is {list.count('abc')}\") \n"
   ]
  },
  {
   "cell_type": "code",
   "execution_count": 38,
   "metadata": {},
   "outputs": [
    {
     "name": "stdout",
     "output_type": "stream",
     "text": [
      "[1, 2]\n"
     ]
    }
   ],
   "source": [
    "# 6. Write a Python program to get a list, sorted in increasing order by the last element in each tuple from a given list of non-empty tuples.\n",
    "# Sample List : [(2, 5), (1, 2), (4, 4), (2, 3), (2, 1)]\n",
    "# Expected Result : [(2, 1), (1, 2), (2, 3), (4, 4), (2, 5)]\n",
    "l = [(2, 5), (1, 2), (4, 4), (2, 3), (2, 1)]\n",
    "\n",
    "print(sorted(l[]))"
   ]
  },
  {
   "cell_type": "code",
   "execution_count": 56,
   "metadata": {},
   "outputs": [
    {
     "name": "stdout",
     "output_type": "stream",
     "text": [
      "[1, 2, 3, 4, 5, 1]\n",
      "[1, 2, 3, 4, 5, 1]\n",
      "[1, 2, 3, 4, 5, 1]\n",
      "[1, 2, 3, 4, 5, 1]\n",
      "[1, 2, 3, 4, 5, 1]\n",
      "[1, 2, 3, 4, 5, 1]\n"
     ]
    }
   ],
   "source": [
    "# 7. Write a Python program to remove duplicates from a list.\n",
    "l = [1,2,3,4,5,1]\n",
    "\n",
    "for i in l:\n",
    "          if l[i] == l[i]:          \n",
    "            print(l)\n"
   ]
  }
 ],
 "metadata": {
  "kernelspec": {
   "display_name": "Python 3",
   "language": "python",
   "name": "python3"
  },
  "language_info": {
   "codemirror_mode": {
    "name": "ipython",
    "version": 3
   },
   "file_extension": ".py",
   "mimetype": "text/x-python",
   "name": "python",
   "nbconvert_exporter": "python",
   "pygments_lexer": "ipython3",
   "version": "3.11.2"
  }
 },
 "nbformat": 4,
 "nbformat_minor": 2
}
