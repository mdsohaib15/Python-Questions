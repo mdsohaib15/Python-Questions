{
 "cells": [
  {
   "cell_type": "code",
   "execution_count": 12,
   "metadata": {},
   "outputs": [
    {
     "name": "stdout",
     "output_type": "stream",
     "text": [
      "Employee Name: joe \n",
      "Employee ID: AS-12 \n",
      "Employee Salary: 10000\n",
      "Employee Department:  sales \n",
      "Overtime Hour: 10\n",
      "Overtime Amount: 2000.0\n"
     ]
    }
   ],
   "source": []
  },
  {
   "cell_type": "code",
   "execution_count": 34,
   "metadata": {},
   "outputs": [
    {
     "name": "stdout",
     "output_type": "stream",
     "text": [
      "Biryani 200\n",
      "Table: 1\n",
      "Table 1: Biryani\n"
     ]
    }
   ],
   "source": []
  },
  {
   "cell_type": "code",
   "execution_count": 33,
   "metadata": {},
   "outputs": [
    {
     "name": "stdout",
     "output_type": "stream",
     "text": [
      "\n",
      "Popular dishes in the restaurant along with their prices:\n",
      "Cheeseburger 9.99\n",
      "Caesar Salad 8\n",
      "Grilled Salmon 19.99\n",
      "French Fries 3.99\n",
      "Fish & Chips: 15\n",
      "\n",
      "Table reserved in the Restaurant:\n",
      "Table: 1\n",
      "Table: 2\n",
      "Table: 3\n",
      "\n",
      "Print customer orders:\n",
      "Table 1: Cheeseburger\n",
      "Table 1: Grilled Salmon\n",
      "Table 2: Fish & Chips\n",
      "Table 2: Grilled Salmon\n"
     ]
    }
   ],
   "source": [
    "class Restaurant:\n",
    "    def __init__(self):\n",
    "        self.menu_items = {}\n",
    "        self.book_table = []\n",
    "        self.customer_orders = []\n",
    "\n",
    "    def add_item_to_menu(self, item, price):\n",
    "        self.menu_items[item] = price\n",
    "\n",
    "    def book_tables(self, table_number):\n",
    "        self.book_table.append(table_number)\n",
    "\n",
    "    def customer_order(self, table_number, order):\n",
    "        order_details = {'table_number': table_number, 'order': order}\n",
    "        self.customer_orders.append(order_details)\n",
    "\n",
    "    def print_menu_items(self):\n",
    "        for item, price in self.menu_items.items():\n",
    "            print(f\"{item} {price}\")\n",
    "\n",
    "    def print_table_reservations(self):\n",
    "        for table in self.book_table:\n",
    "            print(f\"Table: {table}\")\n",
    "\n",
    "    def print_customer_orders(self):\n",
    "        for order in self.customer_orders:\n",
    "            print(f\"Table {order['table_number']}: {order['order']}\")\n",
    "\n",
    "restaurant = Restaurant()\n",
    "\n",
    "# Add items\n",
    "restaurant.add_item_to_menu(\"Cheeseburger\", 9.99)\n",
    "restaurant.add_item_to_menu(\"Caesar Salad\", 8)\n",
    "restaurant.add_item_to_menu(\"Grilled Salmon\", 19.99)\n",
    "restaurant.add_item_to_menu(\"French Fries\", 3.99)\n",
    "restaurant.add_item_to_menu(\"Fish & Chips:\", 15)\n",
    "# Book table\n",
    "restaurant.book_tables(1)\n",
    "restaurant.book_tables(2)\n",
    "restaurant.book_tables(3)\n",
    "# Order items\n",
    "restaurant.customer_order(1, \"Cheeseburger\")\n",
    "restaurant.customer_order(1, \"Grilled Salmon\")\n",
    "restaurant.customer_order(2, \"Fish & Chips\")\n",
    "restaurant.customer_order(2, \"Grilled Salmon\")\n",
    "\n",
    "print(\"\\nPopular dishes in the restaurant along with their prices:\")\n",
    "restaurant.print_menu_items()\n",
    "print(\"\\nTable reserved in the Restaurant:\")\n",
    "restaurant.print_table_reservations()\n",
    "print(\"\\nPrint customer orders:\")\n",
    "restaurant.print_customer_orders()"
   ]
  }
 ],
 "metadata": {
  "kernelspec": {
   "display_name": "Python 3",
   "language": "python",
   "name": "python3"
  },
  "language_info": {
   "codemirror_mode": {
    "name": "ipython",
    "version": 3
   },
   "file_extension": ".py",
   "mimetype": "text/x-python",
   "name": "python",
   "nbconvert_exporter": "python",
   "pygments_lexer": "ipython3",
   "version": "3.11.2"
  }
 },
 "nbformat": 4,
 "nbformat_minor": 2
}
