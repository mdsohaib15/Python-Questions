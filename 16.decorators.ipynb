{
 "cells": [
  {
   "cell_type": "code",
   "execution_count": 1,
   "metadata": {},
   "outputs": [
    {
     "name": "stdout",
     "output_type": "stream",
     "text": [
      "Deposited 500. New balance: 1500\n",
      "Withdrew 200. New balance: 1300\n"
     ]
    }
   ],
   "source": [
    "'''a) Define the @log_transaction decorator.\n",
    "b) Implement the BankAccount class with the deposit and withdraw methods decorated appropriately.\n",
    "c) Write a short code snippet demonstrating the usage of the BankAccount class, including deposit and withdrawal operations, and show how the transactions are logged.'''\n",
    "from functools import wraps\n",
    "import datetime\n",
    "\n",
    "def log_transaction(func):\n",
    "    @wraps(func)\n",
    "    def wrapper(self, *args, **kwargs):\n",
    "        transaction_type = func.__name__  # Get the name of the method (deposit or withdraw)\n",
    "        amount = args[0]  # Assuming the first argument is the amount\n",
    "        timestamp = datetime.datetime.now().strftime(\"%Y-%m-%d %H:%M:%S\")\n",
    "        account_number = self.account_number  # Assuming each instance of BankAccount has an account number\n",
    "        \n",
    "        # Log the transaction details to a file\n",
    "        with open(\"transaction.log\", \"a\") as f:\n",
    "            log_message = f\"{timestamp} - {transaction_type.upper()} - Account: {account_number}, Amount: {amount}\\n\"\n",
    "            f.write(log_message)\n",
    "        \n",
    "        return func(self, *args, **kwargs)\n",
    "    return wrapper\n",
    "\n",
    "class BankAccount:\n",
    "    def __init__(self, account_number, initial_balance=0):\n",
    "        self.account_number = account_number\n",
    "        self.balance = initial_balance\n",
    "\n",
    "    @log_transaction\n",
    "    def deposit(self, amount):\n",
    "        self.balance += amount\n",
    "        print(f\"Deposited {amount}. New balance: {self.balance}\")\n",
    "\n",
    "    @log_transaction\n",
    "    def withdraw(self, amount):\n",
    "        if self.balance >= amount:\n",
    "            self.balance -= amount\n",
    "            print(f\"Withdrew {amount}. New balance: {self.balance}\")\n",
    "        else:\n",
    "            print(\"Insufficient balance\")\n",
    "\n",
    "# Example usage\n",
    "account1 = BankAccount(\"12345\", 1000)\n",
    "account1.deposit(500)\n",
    "account1.withdraw(200)\n"
   ]
  },
  {
   "cell_type": "code",
   "execution_count": 12,
   "metadata": {},
   "outputs": [
    {
     "name": "stdout",
     "output_type": "stream",
     "text": [
      "Admin Panel Access Granted\n",
      "Unauthorized access\n"
     ]
    }
   ],
   "source": [
    "# 1. **Authorization Check:**\n",
    "#     - Problem: You have a web application with various endpoints, and you want to restrict access to certain endpoints based on user roles or permissions.\n",
    "#     - Solution: Use a decorator to check if the user is authorized to access the endpoint before executing the function associated with it.\n",
    "\n",
    "    \n",
    "def authorize(func):\n",
    "    def wrapper(user_role):\n",
    "        if user_role == \"admin\":\n",
    "            return func()\n",
    "        else:\n",
    "            return \"Unauthorized access\"\n",
    "    return wrapper\n",
    "\n",
    "@authorize\n",
    "def admin_panel():\n",
    "    return \"Admin Panel Access Granted\"\n",
    "\n",
    "print(admin_panel(\"admin\"))  # Output: Admin Panel Access Granted\n",
    "print(admin_panel(\"user\"))   # Output: Unauthorized access\n",
    "\n"
   ]
  },
  {
   "cell_type": "code",
   "execution_count": 14,
   "metadata": {},
   "outputs": [
    {
     "name": "stdout",
     "output_type": "stream",
     "text": [
      "Calling add with arguments: (3, 5), {}\n",
      "add returned: 8\n",
      "8\n"
     ]
    }
   ],
   "source": [
    "'''2. **Logging:**\n",
    "    - Problem: You want to log function calls with their arguments and return values to track the application's behavior for debugging and auditing purposes.\n",
    "    - Solution: Use a decorator to log information before and after executing the function.\n",
    "'''\n",
    "def log(func):\n",
    "    def wrapper(*args, **kwargs):\n",
    "        print(f\"Calling {func.__name__} with arguments: {args}, {kwargs}\")\n",
    "        result = func(*args, **kwargs)\n",
    "        print(f\"{func.__name__} returned: {result}\")\n",
    "        return result\n",
    "    return wrapper\n",
    "\n",
    "@log\n",
    "def add(x, y):\n",
    "    return x + y\n",
    "\n",
    "print(add(3, 5))  # Output: 8"
   ]
  },
  {
   "cell_type": "code",
   "execution_count": 20,
   "metadata": {},
   "outputs": [
    {
     "name": "stdout",
     "output_type": "stream",
     "text": [
      "API call successful\n",
      "Rate limit exceeded\n",
      "Rate limit exceeded\n"
     ]
    }
   ],
   "source": [
    "'''3. **Rate Limiting:**\n",
    "    - Problem: You want to restrict the number of times a function can be called within a specific time frame to prevent abuse or resource exhaustion.\n",
    "    - Solution: Use a decorator to track the number of times the function has been called and enforce a limit.'''\n",
    "\n",
    "  \n",
    "import time\n",
    "\n",
    "def rate_limit(limit_per_second):\n",
    "    def decorator(func):\n",
    "        last_called = 0\n",
    "        def wrapper(*args, **kwargs):\n",
    "            nonlocal last_called\n",
    "            current_time = time.time()\n",
    "            if current_time - last_called < 1 / limit_per_second:\n",
    "                return \"Rate limit exceeded\"\n",
    "            last_called = current_time\n",
    "            return func(*args, **kwargs)\n",
    "        return wrapper\n",
    "    return decorator\n",
    "\n",
    "@rate_limit(2)  # Allow 2 calls per second\n",
    "def api_call():\n",
    "    return \"API call successful\"\n",
    "\n",
    "print(api_call())  # Output: API call successful\n",
    "print(api_call())  # Output: API call successful\n",
    "print(api_call())  # Output: Rate limit exceeded\n"
   ]
  },
  {
   "cell_type": "code",
   "execution_count": 17,
   "metadata": {},
   "outputs": [
    {
     "name": "stdout",
     "output_type": "stream",
     "text": [
      "5\n"
     ]
    }
   ],
   "source": [
    "'''4. **Caching:**\n",
    "    - Problem: You have a function that performs expensive computations, and you want to cache its results to improve performance by avoiding redundant calculations.\n",
    "    - Solution: Use a decorator to store the results of function calls in a cache and return the cached result if the same inputs are provided again.\n",
    "'''\n",
    "def cache(func):\n",
    "        cached_results = {}\n",
    "        def wrapper(*args):\n",
    "            if args in cached_results:\n",
    "                return cached_results[args]\n",
    "            result = func(*args)\n",
    "            cached_results[args] = result\n",
    "            return result\n",
    "        return wrapper\n",
    "\n",
    "@cache\n",
    "def fibonacci(n):\n",
    "        if n <= 1:\n",
    "          return n\n",
    "        return fibonacci(n-1) + fibonacci(n-2)\n",
    "\n",
    "print(fibonacci(5))  # Output: 5\n",
    "   "
   ]
  },
  {
   "cell_type": "code",
   "execution_count": 19,
   "metadata": {},
   "outputs": [
    {
     "name": "stdout",
     "output_type": "stream",
     "text": [
      "Attempt 1: Failed to connect\n",
      "Attempt 2: Failed to connect\n",
      "Attempt 3: Failed to connect\n",
      "Max retries exceeded\n"
     ]
    }
   ],
   "source": [
    "# 5. **Retry Mechanism:**\n",
    "#     - Problem: You have a function that interacts with external services, and you want to retry the function call a few times if it fails due to transient errors like network issues.\n",
    "#     - Solution: Use a decorator to retry the function call with exponential backoff until it succeeds or the maximum number of retries is reached.\n",
    "\n",
    "    \n",
    "    \n",
    "    \n",
    "    \n",
    "import time\n",
    "\n",
    "def retry(max_retries, delay=1, backoff=2):\n",
    "    def decorator(func):\n",
    "        def wrapper(*args, **kwargs):\n",
    "            for attempt in range(max_retries):\n",
    "                try:\n",
    "                    return func(*args, **kwargs)\n",
    "                except Exception as e:\n",
    "                    print(f\"Attempt {attempt + 1}: {e}\")\n",
    "                    time.sleep(delay * (backoff ** attempt))\n",
    "            return \"Max retries exceeded\"\n",
    "        return wrapper\n",
    "    return decorator\n",
    "\n",
    "@retry(max_retries=3)\n",
    "def api_call():\n",
    "    # Simulate a transient error\n",
    "    raise ConnectionError(\"Failed to connect\")\n",
    "\n",
    "print(api_call())  # Output: Attempt 1: Failed to connect, Attempt 2: Failed to connect, Attempt 3: Failed to connect, Max retries exceeded\n",
    "\n"
   ]
  },
  {
   "cell_type": "code",
   "execution_count": null,
   "metadata": {},
   "outputs": [],
   "source": []
  }
 ],
 "metadata": {
  "kernelspec": {
   "display_name": "Python 3",
   "language": "python",
   "name": "python3"
  },
  "language_info": {
   "codemirror_mode": {
    "name": "ipython",
    "version": 3
   },
   "file_extension": ".py",
   "mimetype": "text/x-python",
   "name": "python",
   "nbconvert_exporter": "python",
   "pygments_lexer": "ipython3",
   "version": "3.11.2"
  }
 },
 "nbformat": 4,
 "nbformat_minor": 2
}
