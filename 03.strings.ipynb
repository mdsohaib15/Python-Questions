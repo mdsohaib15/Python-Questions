{
 "cells": [
  {
   "cell_type": "code",
   "execution_count": 4,
   "metadata": {},
   "outputs": [
    {
     "name": "stdout",
     "output_type": "stream",
     "text": [
      "the length of sohaib string is 6\n"
     ]
    }
   ],
   "source": [
    "# 1. Write a Python program to calculate the length of a string.\n",
    "strings = \"sohaib\"\n",
    "length=len(strings)\n",
    "print(\"the length of strings\"+ strings +\" string is\",length)"
   ]
  },
  {
   "cell_type": "code",
   "execution_count": 1,
   "metadata": {},
   "outputs": [
    {
     "ename": "SyntaxError",
     "evalue": "expected ':' (933221256.py, line 4)",
     "output_type": "error",
     "traceback": [
      "\u001b[1;36m  Cell \u001b[1;32mIn[1], line 4\u001b[1;36m\u001b[0m\n\u001b[1;33m    if name[0] in name\u001b[0m\n\u001b[1;37m                      ^\u001b[0m\n\u001b[1;31mSyntaxError\u001b[0m\u001b[1;31m:\u001b[0m expected ':'\n"
     ]
    }
   ],
   "source": [
    "# 2. Write a Python program to count the number of characters (character frequency) in a string.\n",
    "name=\"soohaib\"\n",
    "\n",
    "if name[0] in name\n",
    "\n",
    "\n",
    "# Sample String : google.com'\n",
    "# Expected Result : {'g': 2, 'o': 3, 'l': 1, 'e': 1, '.': 1, 'c': 1, 'm': 1}"
   ]
  },
  {
   "cell_type": "code",
   "execution_count": 66,
   "metadata": {},
   "outputs": [
    {
     "name": "stdout",
     "output_type": "stream",
     "text": [
      "empty string\n"
     ]
    }
   ],
   "source": [
    "# 3. Write a Python program to get a string made of the first 2 and last 2 characters of a given string. If the string length is less than 2, return the empty string instead.\n",
    "# Sample String : 'w3resource'\n",
    "# Expected Result : 'w3ce'\n",
    "# Sample String : 'w3'\n",
    "# Expected Result : 'w3w3'\n",
    "# Sample String : ' w'\n",
    "# Expected Result : Empty String\n",
    "\n",
    "string1=input(\"enter string\")\n",
    "if len(string1)>2:\n",
    "          first2string = string1[0:2]\n",
    "          print(first2string)\n",
    "          \n",
    "          n=2\n",
    "          while n>0:\n",
    "                    last2string = string1[-n]\n",
    "                    print(last2string,end=\"\")\n",
    "                    n=n-1\n",
    "                    \n",
    "else:\n",
    "          print(\"empty string\")\n",
    "                    \n",
    "          \n",
    "\n",
    "# print(len(string1))"
   ]
  },
  {
   "cell_type": "code",
   "execution_count": 54,
   "metadata": {},
   "outputs": [
    {
     "name": "stdout",
     "output_type": "stream",
     "text": [
      "ope$ations$\n"
     ]
    }
   ],
   "source": [
    "# 4. Write a Python program to get a string from a given string where all occurrences of its first char have been changed to '$', except the first char itself.\n",
    "# Sample String : 'restart'\n",
    "# Expected Result : 'resta$t'\n",
    "str=input(\"enter strings\")\n",
    "first_char =str[0]\n",
    "final_str = str[1:].replace('r','$')\n",
    "print(first_char+final_str)\n",
    "         "
   ]
  },
  {
   "cell_type": "code",
   "execution_count": 10,
   "metadata": {},
   "outputs": [
    {
     "name": "stdout",
     "output_type": "stream",
     "text": [
      "xyc abz\n"
     ]
    }
   ],
   "source": [
    "# 5. Write a Python program to get a single string from two given strings, separated by a space and swap the first two characters of each string.\n",
    "# Sample String : 'abc', 'xyz'\n",
    "# Expected Result : 'xyc abz'\n",
    "\n",
    "first_str=\"abc\"\n",
    "second_str=\"xyz\"\n",
    "new_first=second_str[0:2] + first_str[2:3]\n",
    "new_second = first_str[0:2] + second_str[2:3]\n",
    "print(new_first , new_second)\n"
   ]
  },
  {
   "cell_type": "code",
   "execution_count": 61,
   "metadata": {},
   "outputs": [
    {
     "name": "stdout",
     "output_type": "stream",
     "text": [
      "readed\n"
     ]
    }
   ],
   "source": [
    "# 6. Write a Python program to add 'ing' at the end of a given string (length should be at least 3). If the given string already ends with 'ing', add 'ly' instead. If the string length of the given string is less than 3, leave it unchanged.\n",
    "\n",
    "\n",
    "str = input(\"enter word\")\n",
    "if len(str)>=3:\n",
    "          if str[len(str)-3:] == \"ing\":\n",
    "                    updated_str = str[0:len(str)-3] + \"ed\"\n",
    "                    print(updated_str)\n",
    "          else:\n",
    "                    print(\"else\")\n",
    "                    new_str = str + \"ing\"\n",
    "                    print(new_str)\n",
    "\n",
    "\n",
    "\n",
    "else:\n",
    "          print(str)\n"
   ]
  },
  {
   "cell_type": "code",
   "execution_count": 83,
   "metadata": {},
   "outputs": [
    {
     "name": "stdout",
     "output_type": "stream",
     "text": [
      "23\n",
      "14\n",
      "The lyrics is good\n"
     ]
    }
   ],
   "source": [
    "# 7. Write a Python program to find the first appearance of the substrings 'not' and 'poor' in a given string. If 'not' follows 'poor', replace the whole 'not'...'poor' substring with 'good'. Return the resulting string.\n",
    "# Sample String : 'The lyrics is not that poor!'\n",
    "# 'The lyrics is poor!'\n",
    "# Expected Result : 'The lyrics is good!'\n",
    "# 'The lyrics is poor!'\n",
    "\n",
    "string = 'The lyrics is not that poor!'\n",
    "snot = string.find('not')\n",
    "spoor = string.find('poor')\n",
    "print(spoor)\n",
    "print(snot)\n",
    "str1 = string.replace(string[snot:],\"good\")\n",
    "print(str1)"
   ]
  },
  {
   "cell_type": "code",
   "execution_count": 40,
   "metadata": {},
   "outputs": [
    {
     "name": "stdout",
     "output_type": "stream",
     "text": [
      "light\n"
     ]
    }
   ],
   "source": [
    "\n"
   ]
  },
  {
   "cell_type": "code",
   "execution_count": null,
   "metadata": {},
   "outputs": [],
   "source": []
  },
  {
   "cell_type": "code",
   "execution_count": null,
   "metadata": {},
   "outputs": [],
   "source": []
  },
  {
   "cell_type": "code",
   "execution_count": 32,
   "metadata": {},
   "outputs": [
    {
     "name": "stdout",
     "output_type": "stream",
     "text": [
      "so\n"
     ]
    }
   ],
   "source": [
    "# get input\n",
    "str=\"sohaib\"\n",
    "print(str[0:2])\n",
    "\n"
   ]
  }
 ],
 "metadata": {
  "kernelspec": {
   "display_name": "Python 3",
   "language": "python",
   "name": "python3"
  },
  "language_info": {
   "codemirror_mode": {
    "name": "ipython",
    "version": 3
   },
   "file_extension": ".py",
   "mimetype": "text/x-python",
   "name": "python",
   "nbconvert_exporter": "python",
   "pygments_lexer": "ipython3",
   "version": "3.11.2"
  }
 },
 "nbformat": 4,
 "nbformat_minor": 2
}
