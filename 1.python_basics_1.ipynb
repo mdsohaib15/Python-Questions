{
 "cells": [
  {
   "cell_type": "code",
   "execution_count": 3,
   "metadata": {},
   "outputs": [
    {
     "name": "stdout",
     "output_type": "stream",
     "text": [
      "Twinkle, twinkle, little star, \n",
      "\tHow I wonder what you are! \n",
      "\t\tUp above the world so high, \n",
      "\t\tLike a diamond in the sky. \n",
      "Twinkle, twinkle, little star, \n",
      "\tHow I wonder what you are\n"
     ]
    }
   ],
   "source": [
    "# 1. Write a Python program to print the following string in a specific format (see the output).\n",
    "''' Sample String : \"Twinkle, twinkle, little star, How I wonder what you are! Up above the world so high, Like a diamond in the sky. Twinkle, twinkle, little star, How I wonder what you are\"'''\n",
    "\n",
    "# Sample Output :\n",
    "\n",
    "'''Twinkle, twinkle, little star,\n",
    "\tHow I wonder what you are! \n",
    "\t\tUp above the world so high,   \t\t\n",
    "\t\tLike a diamond in the sky. \n",
    "Twinkle, twinkle, little star, \n",
    "\tHow I wonder what you are'''\n",
    "\n",
    "print(\"Twinkle, twinkle, little star, \\n\\tHow I wonder what you are! \\n\\t\\tUp above the world so high, \\n\\t\\tLike a diamond in the sky. \\nTwinkle, twinkle, little star, \\n\\tHow I wonder what you are\")"
   ]
  },
  {
   "cell_type": "code",
   "execution_count": 1,
   "metadata": {},
   "outputs": [
    {
     "name": "stdout",
     "output_type": "stream",
     "text": [
      "Python version\n",
      "3.11.2 (tags/v3.11.2:878ead1, Feb  7 2023, 16:38:35) [MSC v.1934 64 bit (AMD64)]\n",
      "Version info.\n",
      "sys.version_info(major=3, minor=11, micro=2, releaselevel='final', serial=0)\n"
     ]
    }
   ],
   "source": [
    "# 2. Write a Python program to find out what version of Python you are using.\n",
    "import sys  # Import the sys module to access system-specific parameters and functions\n",
    "\n",
    "# Print the Python version to the console\n",
    "print(\"Python version\")\n",
    "\n",
    "# Use the sys.version attribute to get the Python version and print it\n",
    "print(sys.version)\n",
    "\n",
    "# Print information about the Python version\n",
    "print(\"Version info.\")\n",
    "\n",
    "# Use the sys.version_info attribute to get detailed version information and print it\n",
    "print(sys.version_info)\n"
   ]
  },
  {
   "cell_type": "code",
   "execution_count": 6,
   "metadata": {},
   "outputs": [
    {
     "name": "stdout",
     "output_type": "stream",
     "text": [
      "Current date and time \" \n",
      "Date: 2023-12-10\n",
      "Time: 14:39:57\n"
     ]
    }
   ],
   "source": [
    "# 3.Write a Python program to display the current date and time.\n",
    "import datetime\n",
    "now = datetime.datetime.now()\n",
    "print(\"Current date and time  \")\n",
    "date = now.strftime(\"Date: %Y-%m-%d\")\n",
    "print(date)\n",
    "time = now.strftime(\"Time: %H:%M:%S\")\n",
    "print(time)\n"
   ]
  },
  {
   "cell_type": "code",
   "execution_count": 11,
   "metadata": {},
   "outputs": [
    {
     "name": "stdout",
     "output_type": "stream",
     "text": [
      "the area of circle of radius 1.1 is : 3.8013271108436504\n",
      "the value of pi is : 3.141592653589793\n"
     ]
    }
   ],
   "source": [
    "# 4.Write a Python program that calculates the area of a circle based on the radius entered by the user.\n",
    "from math import pi\n",
    "radius = float(input(\"Enter a radius\"))\n",
    "area = pi*radius**2\n",
    "print(\"the area of circle of radius \" + str(radius) + \" is : \" + str(area))\n",
    "\n",
    "print(\"the value of pi is :\",pi)\n",
    "\n"
   ]
  },
  {
   "cell_type": "code",
   "execution_count": 17,
   "metadata": {},
   "outputs": [
    {
     "name": "stdout",
     "output_type": "stream",
     "text": [
      "Hello  sohaib md\n"
     ]
    }
   ],
   "source": [
    "# 5. Write a Python program that accepts the user's first and last name and prints them in reverse order with a space between them.\n",
    "first_name = input(\"enter first name:\")\n",
    "last_name = input(\"enter last name: \")\n",
    "print(\"Hello \" , last_name,  first_name)"
   ]
  },
  {
   "cell_type": "code",
   "execution_count": 25,
   "metadata": {},
   "outputs": [
    {
     "name": "stdout",
     "output_type": "stream",
     "text": [
      "List :  ['0', '9', '8', '6', '5']\n",
      "Tuple :  ('0', '9', '8', '6', '5')\n"
     ]
    }
   ],
   "source": [
    "# 6. Write a Python program that accepts a sequence of comma-separated numbers from the user and generates a list and a tuple of those numbers.\n",
    "data = input(\"enter numbers \")\n",
    "lists = list(data)\n",
    "tuples = tuple(data)\n",
    "print(\"List : \",lists)\n",
    "print(\"Tuple : \",tuples)"
   ]
  },
  {
   "cell_type": "code",
   "execution_count": 10,
   "metadata": {},
   "outputs": [
    {
     "name": "stdout",
     "output_type": "stream",
     "text": [
      "fil.ps\n",
      "The extension of the file is : 'ps'\n"
     ]
    }
   ],
   "source": [
    "# 7. Write a Python program that accepts a filename from the user and prints the extension of the file.\n",
    "\n",
    "file_name = input(\"enter a file name \")\n",
    "print(file_name)\n",
    "\n",
    "# Split the 'filename' string into a list using the period (.) as a separator and store it in the 'f_extns' variable\n",
    "f_extns = file_name.split(\".\") \n",
    "\n",
    "print(\"The extension of the file is : \" + repr(f_extns[-1]))\n",
    "# The repr() function returns a string containing a printable representation of an object.\n",
    "\n"
   ]
  },
  {
   "cell_type": "code",
   "execution_count": 12,
   "metadata": {},
   "outputs": [
    {
     "name": "stdout",
     "output_type": "stream",
     "text": [
      "first color :  Red\n",
      "last color :  Black\n"
     ]
    }
   ],
   "source": [
    "# 8. Write a Python program to display the first and last colors from the following list.\n",
    "color_list = [\"Red\",\"Green\",\"White\" ,\"Black\"]\n",
    "print(\"first color : \" ,color_list[0])\n",
    "print(\"last color : \" ,color_list[3])"
   ]
  },
  {
   "cell_type": "code",
   "execution_count": 15,
   "metadata": {},
   "outputs": [
    {
     "name": "stdout",
     "output_type": "stream",
     "text": [
      "The examination will start from : 11 / 12 / 2014 \n"
     ]
    }
   ],
   "source": [
    "# 9. Write a Python program to display the examination schedule. (extract the date from exam_st_date).\n",
    "exam_st_date = (11, 12, 2014)\n",
    "print(\"The examination will start from : %i / %i / %i \"%exam_st_date)\n",
    "\n",
    "# The placeholders %i are used to format the integers."
   ]
  },
  {
   "cell_type": "code",
   "execution_count": 5,
   "metadata": {},
   "outputs": [
    {
     "name": "stdout",
     "output_type": "stream",
     "text": [
      "615\n"
     ]
    }
   ],
   "source": [
    "# 10. Write a Python program that accepts an integer (n) and computes the value of n+nn+nnn.\n",
    "# Sample value of n is 5\n",
    "# Expected Result : 615\n",
    "a = 5\n",
    "n1 = int(\"%s\"%a)\n",
    "n2 = int(\"%s%s\"%(a,a))\n",
    "n3 = int(\"%s%s%s\"%(a,a,a))\n",
    "print(n1+n2+n3)\n"
   ]
  },
  {
   "cell_type": "code",
   "execution_count": 1,
   "metadata": {},
   "outputs": [
    {
     "name": "stdout",
     "output_type": "stream",
     "text": [
      "Return the absolute value of the argument.\n"
     ]
    }
   ],
   "source": [
    "# 11. Write a Python program to print the documents (syntax, description etc.) of Python built-in function(s).\n",
    "# Sample function : abs()\n",
    "# Expected Result :\n",
    "# abs(number) -> number\n",
    "# Return the absolute value of the argument.\n",
    "# Print the docstring (documentation) of the 'abs' function\n",
    "print(abs.__doc__)\n"
   ]
  },
  {
   "cell_type": "code",
   "execution_count": null,
   "metadata": {},
   "outputs": [],
   "source": [
    "12. Write a Python program that prints the calendar for a given month and year.\n",
    "Note : Use 'calendar' module."
   ]
  },
  {
   "cell_type": "code",
   "execution_count": null,
   "metadata": {},
   "outputs": [],
   "source": [
    "# 13. Write a Python program to print the following 'here document'.\n",
    "# Sample string :\n",
    "# a string that you \"don't\" have to escape\n",
    "# This\n",
    "# is a ....... multi-line\n",
    "# heredoc string --------> example"
   ]
  }
 ],
 "metadata": {
  "kernelspec": {
   "display_name": "Python 3",
   "language": "python",
   "name": "python3"
  },
  "language_info": {
   "codemirror_mode": {
    "name": "ipython",
    "version": 3
   },
   "file_extension": ".py",
   "mimetype": "text/x-python",
   "name": "python",
   "nbconvert_exporter": "python",
   "pygments_lexer": "ipython3",
   "version": "3.11.2"
  }
 },
 "nbformat": 4,
 "nbformat_minor": 2
}
