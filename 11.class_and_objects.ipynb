{
 "cells": [
  {
   "cell_type": "code",
   "execution_count": 4,
   "metadata": {},
   "outputs": [
    {
     "name": "stdout",
     "output_type": "stream",
     "text": [
      "Red\n",
      "20.5\n",
      "500\n"
     ]
    }
   ],
   "source": [
    "class Pen:\n",
    "    def __init__(self,Color,Diameter,Price):\n",
    "        self.Color = Color\n",
    "        print(Color)\n",
    "        self.Diameter = Diameter\n",
    "        print(Diameter)\n",
    "        self.Price = Price\n",
    "        print(Price)\n",
    "\n",
    "P = Pen(\"Red\",20.5,500)"
   ]
  },
  {
   "cell_type": "code",
   "execution_count": 8,
   "metadata": {},
   "outputs": [
    {
     "name": "stdout",
     "output_type": "stream",
     "text": [
      "Your item in list :  ['MAC', 'IP', 'cam', 'ps5', 'mac', 'phone']\n"
     ]
    }
   ],
   "source": [
    "'''**1. Inventory Management System:**\n",
    "\n",
    "- Create classes for `Product`, `Inventory`, and `Order`.\n",
    "- Implement methods to add, remove, and update products in the inventory.\n",
    "- Track stock levels and generate reports on inventory status.\n",
    "- Handle order processing, including creating orders, fulfilling items, and updating inventory.'''\n",
    "class Product:\n",
    "       item_list = []\n",
    "       def add(self):\n",
    "              while True:\n",
    "                     item = input(\"Enter a items that you want: \")\n",
    "                     if item == \"q\":\n",
    "                            break\n",
    "                     item_list.append(item)\n",
    "              print(\"Your item in list : \",item_list)\n",
    "       def remove(self):\n",
    "              \n",
    "\n",
    "\n",
    "# class Inventory:\n",
    "#           def add(self):\n",
    "#                     pass\n",
    "#           def remove(self):\n",
    "#                      pass\n",
    "#           def update(self):\n",
    "#               pass\n",
    "# class Order:\n",
    "#        pass\n",
    "\n",
    "p = Product()\n",
    "p.add()"
   ]
  },
  {
   "cell_type": "code",
   "execution_count": 10,
   "metadata": {},
   "outputs": [
    {
     "name": "stdout",
     "output_type": "stream",
     "text": [
      "Total Students :  50\n",
      "PositionHolds Students :  20\n",
      "15\n"
     ]
    }
   ],
   "source": [
    "class Class:\n",
    "    def __init__(self,Students,PositionHolders):\n",
    "        self.Students = Students\n",
    "        self.PositionHolders = PositionHolders\n",
    "        \n",
    "    def ForeignStudents(self):\n",
    "            self.NewStudents = self.PositionHolders - 5\n",
    "            print(self.NewStudents)\n",
    "\n",
    "C1 = Class(50,20)\n",
    "print(\"Total Students : \",C1.Students)\n",
    "print(\"PositionHolds Students : \",C1.PositionHolders)\n",
    "C1.ForeignStudents()"
   ]
  },
  {
   "cell_type": "code",
   "execution_count": null,
   "metadata": {},
   "outputs": [],
   "source": [
    "# ------------Instance Variable------------------\n",
    "\"\"\"Instance variable Woh variable hota hai jo sab objects k lye unique ho \n",
    "yeh _init_ k andr define hota hai\"\"\"\n",
    "class Student:\n",
    "    def __init__(self,name,fathername,GPA):\n",
    "        self.name = name\n",
    "        self.fathername = fathername\n",
    "        self.GPA = GPA\n",
    "Hamza = Student('Hamza','Kamelen','Dangerous')\n",
    "print(Hamza.name,Hamza.fathername,Hamza.GPA)\n",
    "\n",
    "# ------------Class Variable------------------\n",
    "\"\"\"Class variable Woh variable hota hai jo sab objects main accessible ho(also known as static variable),\n",
    " yeh defined hota hai outside constructor/any method of class\n",
    " Eg: Counter\"\"\"\n",
    "\n",
    "class Login:\n",
    "    TotalUsers = 0\n",
    "    def __init__(self,name,money):\n",
    "        Login.TotalUsers += 1\n",
    "        self.name = name\n",
    "        self.money = money\n",
    "        print(f'Name: {self.name}\\nMoney: {self.money}\\nTotalUsers: {self.TotalUsers} ')\n",
    "Login('Hamza',2000)\n",
    "Login('talha',4000)"
   ]
  },
  {
   "cell_type": "code",
   "execution_count": null,
   "metadata": {},
   "outputs": [],
   "source": [
    "\"\"\" ----Solve Y^x using OOP. in this programming method 'Calculate' \n",
    "does the calculation and method 'display' show the output. \"\"\"\n",
    "class Question:\n",
    "    def __init__(self,base,exponent):\n",
    "        self.y = base\n",
    "        self.x = exponent\n",
    "    def Calculate(self):\n",
    "        self.calculation = self.y**self.x\n",
    "    print('Calculation Done')\n",
    "    def Display(self):\n",
    "        self.result = f\"Answer of {self.y}^{self.x} is {self.calculation}\"\n",
    "        print(self.result)\n",
    "\n",
    "Ans1 = Question(2,2)\n",
    "Ans1.Calculate()\n",
    "Ans1.Display()\n",
    "\n",
    "Ans2 = Question(3,2)\n",
    "Ans2.Calculate()\n",
    "Ans2.Display()"
   ]
  },
  {
   "cell_type": "code",
   "execution_count": 12,
   "metadata": {},
   "outputs": [
    {
     "name": "stdout",
     "output_type": "stream",
     "text": [
      "True\n",
      "False\n"
     ]
    }
   ],
   "source": [
    "class Light:\n",
    "          def light_on(self):\n",
    "                    self.status = True\n",
    "          def light_off(self):\n",
    "                    self.status = False\n",
    "L1 = Light()\n",
    "L1.light_on()\n",
    "print(L1.status)\n",
    "L1.light_off()\n",
    "print(L1.status)"
   ]
  },
  {
   "cell_type": "code",
   "execution_count": 38,
   "metadata": {},
   "outputs": [
    {
     "name": "stdout",
     "output_type": "stream",
     "text": [
      "Light is Off\n",
      "True\n"
     ]
    }
   ],
   "source": [
    "# check light is (on or off) ,when light is on turn it off or when light is off turn it on \n",
    "class Light:\n",
    "          def light_on(self):\n",
    "                    self.status = True\n",
    "          def light_off(self):\n",
    "                    self.status = False\n",
    "L1 = Light()\n",
    "\n",
    "# status = True\n",
    "status = False\n",
    "if status == True:\n",
    "          print(\"Light is on\")\n",
    "          L1.light_off()\n",
    "          print(L1.status)\n",
    "else:\n",
    "          print(\"Light is Off\")\n",
    "          L1.light_on()\n",
    "          print(L1.status)"
   ]
  },
  {
   "cell_type": "code",
   "execution_count": 64,
   "metadata": {},
   "outputs": [
    {
     "name": "stdout",
     "output_type": "stream",
     "text": [
      "Initial speed :  200\n",
      "increased speed:  201\n",
      "\n",
      "\n",
      "Initial Speed:  200\n",
      "decreased speed:  199\n"
     ]
    }
   ],
   "source": [
    "class Fan:\n",
    "          def __init__(self,RPM):\n",
    "                    self.RPM = RPM\n",
    "          def increase_RPM(self):\n",
    "                    self.RPM = self.RPM + 1\n",
    "          def decrease_RPM(self):\n",
    "                    self.RPM = self.RPM - 1\n",
    "\n",
    "\n",
    "f1 = Fan(200)\n",
    "print(\"Initial speed : \", f1.RPM)\n",
    "f1.increase_RPM()\n",
    "print(\"increased speed: \",f1.RPM)\n",
    "print(\"\\n\")\n",
    "f2 = Fan(200)\n",
    "print(\"Initial Speed: \",f2.RPM)\n",
    "f2.decrease_RPM()\n",
    "print(\"decreased speed: \",f2.RPM)"
   ]
  },
  {
   "cell_type": "code",
   "execution_count": 74,
   "metadata": {},
   "outputs": [
    {
     "name": "stdout",
     "output_type": "stream",
     "text": [
      "The speed of the fan is : 11\n",
      "The speed of the fan is : 12\n",
      "program end\n",
      "The speed of the fan is 12 now\n"
     ]
    }
   ],
   "source": [
    "class Fan:\n",
    "          def __init__(self,speed):\n",
    "                    self.speed = speed\n",
    "          def display_speed(self):\n",
    "                    print(f\"The speed of the fan is : {self.speed}\")\n",
    "          def increase_speed(self):\n",
    "                    self.speed +=1\n",
    "          def decrease_speed(self):\n",
    "                    self.speed -=1\n",
    "a = Fan(10)\n",
    "\n",
    "while True:\n",
    "          ask = input(\"enter + to increase and - to decrease :  \")\n",
    "          if ask == \"+\":\n",
    "                    a.increase_speed()\n",
    "                    a.display_speed()\n",
    "          elif ask == \"-\":\n",
    "                    a.decrease_speed()\n",
    "                    a.display_speed()\n",
    "          elif ask == \"exit\":\n",
    "                    print(\"program end\")\n",
    "                    print(f\"The speed of the fan is {a.speed} now\")\n",
    "                    break\n",
    "                    \n",
    "          else:\n",
    "                    print(\"enter a valid input.\")"
   ]
  },
  {
   "cell_type": "code",
   "execution_count": 78,
   "metadata": {},
   "outputs": [
    {
     "name": "stdout",
     "output_type": "stream",
     "text": [
      "11\n"
     ]
    }
   ],
   "source": [
    "class Car:\n",
    "          def __init__(self,speed):\n",
    "                    self.speed = 10\n",
    "          def acc(self):\n",
    "                    self.speed = self.speed + 1\n",
    "          def brake(self):\n",
    "                    self.speed = self.speed - 1\n",
    "\n",
    "\n",
    "c1 = Car(1)\n",
    "c1.acc()\n",
    "print(c1.speed)"
   ]
  }
 ],
 "metadata": {
  "kernelspec": {
   "display_name": "Python 3",
   "language": "python",
   "name": "python3"
  },
  "language_info": {
   "codemirror_mode": {
    "name": "ipython",
    "version": 3
   },
   "file_extension": ".py",
   "mimetype": "text/x-python",
   "name": "python",
   "nbconvert_exporter": "python",
   "pygments_lexer": "ipython3",
   "version": "3.11.2"
  }
 },
 "nbformat": 4,
 "nbformat_minor": 2
}
