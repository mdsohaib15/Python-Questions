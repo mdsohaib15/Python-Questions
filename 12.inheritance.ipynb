{
 "cells": [
  {
   "cell_type": "code",
   "execution_count": null,
   "metadata": {},
   "outputs": [],
   "source": [
    "## INHERITANCE\n",
    "class Employee:\n",
    "          def __init__(self,name,id):\n",
    "                    self.name = name \n",
    "                    self.id = id\n",
    "          def ShowDetails(self):\n",
    "                    print(f\"My name is {self.name} and my id is {self.id}\")\n",
    "\n",
    "class Programmer(Employee):\n",
    "          def ShowLanguage(self):\n",
    "                    print(\"yes we all know python programming \")\n",
    "a = Employee(\"Sohaib\",40)\n",
    "a.ShowDetails()\n",
    "b = Employee(\"Hammad\",39)\n",
    "b.ShowDetails()\n",
    "# b.ShowLanguage() ->error\n",
    "c = Programmer(\"Basit\",25)\n",
    "c.ShowDetails()\n",
    "\n",
    "c.ShowLanguage()\n"
   ]
  },
  {
   "cell_type": "code",
   "execution_count": 3,
   "metadata": {},
   "outputs": [
    {
     "name": "stdout",
     "output_type": "stream",
     "text": [
      "name: Sohaib : marks : maths:12: english:33:  computer:32\n"
     ]
    }
   ],
   "source": [
    "# ============= Inheritance ===================\n",
    "class A:\n",
    "    def __init__(self,name,maths,english,computer):\n",
    "        self.name = name \n",
    "        self.maths = maths\n",
    "        self.english = english\n",
    "        self.computer = computer\n",
    "    def Showmarks(self):\n",
    "        print(f\"name: {self.name} : marks : maths:{self.maths}: english:{self.english}:  computer:{self.computer}\")\n",
    "class B(A):\n",
    "    def __init__(self):\n",
    "        pass\n",
    "    def Maths(self):\n",
    "        self.maths = 100\n",
    "    def English(self):\n",
    "        self.english = 80\n",
    "    def Computer(self):\n",
    "        self.computer = 89\n",
    "    \n",
    "# H = B()\n",
    "# H.English()\n",
    "a = A(\"Sohaib\",12,33,32)\n",
    "a.Showmarks()\n",
    "b = B()\n",
    "# print(b.Maths)\n"
   ]
  },
  {
   "cell_type": "code",
   "execution_count": 1,
   "metadata": {},
   "outputs": [
    {
     "name": "stdout",
     "output_type": "stream",
     "text": [
      "3 Sides of Shape:\n",
      " \n",
      "1 Value: 11.0\n",
      "\n",
      "2 Value: 22.0\n",
      "\n",
      "3 Value: 22.0\n",
      "\n",
      "Area of Triangle: 121.0\n"
     ]
    }
   ],
   "source": [
    "# Q1(a)apply inheritance concepets, write a class polygon with a method that takes number of sides as input and another method that displays it.create a subclass triangle , which calls input and display methods from the parent class and contains a method to calculate the area of triangle.create object for triangle and call methods to take input, calculate area of a triangle and display the result and show the output. \n",
    "\n",
    "class Polygon:\n",
    "    def __init__(self):\n",
    "        self.abc = {} \n",
    "\n",
    "    def Input(self):\n",
    "        self.numOfSides = int(input('Enter Number of Sides '))\n",
    "        for i in range(1, self.numOfSides + 1):\n",
    "            self.abc[i] = float(input(f'Enter Length{i}: '))\n",
    "\n",
    "    def Display(self):\n",
    "        print(f'{self.numOfSides} Sides of Shape:\\n ')\n",
    "        for iter in range(1, self.numOfSides + 1):\n",
    "            print(f'{iter} Value: {self.abc[iter]}\\n')\n",
    "\n",
    "class Triangle(Polygon):\n",
    "    def __init__(self):\n",
    "        super().__init__()\n",
    "        super().Input()\n",
    "        super().Display()\n",
    "\n",
    "    def AreaofTriangle(self):\n",
    "        if self.numOfSides == 3:\n",
    "            self.areaofTriangle = 0.5 * self.abc[1] * self.abc[2] \n",
    "            print(f'Area of Triangle: {self.areaofTriangle}')\n",
    "\n",
    "p = Triangle()\n",
    "p.AreaofTriangle()\n",
    "\n"
   ]
  },
  {
   "cell_type": "code",
   "execution_count": null,
   "metadata": {},
   "outputs": [],
   "source": []
  },
  {
   "cell_type": "code",
   "execution_count": null,
   "metadata": {},
   "outputs": [],
   "source": []
  }
 ],
 "metadata": {
  "kernelspec": {
   "display_name": "Python 3",
   "language": "python",
   "name": "python3"
  },
  "language_info": {
   "codemirror_mode": {
    "name": "ipython",
    "version": 3
   },
   "file_extension": ".py",
   "mimetype": "text/x-python",
   "name": "python",
   "nbconvert_exporter": "python",
   "pygments_lexer": "ipython3",
   "version": "3.11.2"
  }
 },
 "nbformat": 4,
 "nbformat_minor": 2
}
