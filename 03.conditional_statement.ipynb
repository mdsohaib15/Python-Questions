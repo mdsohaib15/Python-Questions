{
 "cells": [
  {
   "cell_type": "code",
   "execution_count": 1,
   "metadata": {},
   "outputs": [
    {
     "name": "stdout",
     "output_type": "stream",
     "text": [
      "1505,1540,1575,1610,1645,1680,1715,1750,1785,1820,1855,1890,1925,1960,1995,2030,2065,2100,2135,2170,2205,2240,2275,2310,2345,2380,2415,2450,2485,2520,2555,2590,2625,2660,2695\n",
      "['1505', '1540', '1575', '1610', '1645', '1680', '1715', '1750', '1785', '1820', '1855', '1890', '1925', '1960', '1995', '2030', '2065', '2100', '2135', '2170', '2205', '2240', '2275', '2310', '2345', '2380', '2415', '2450', '2485', '2520', '2555', '2590', '2625', '2660', '2695']\n"
     ]
    }
   ],
   "source": [
    "# 1. Write a Python program to find those numbers which are divisible by 7 and multiples of 5, between 1500 and 2700 (both included).\n",
    "n = []\n",
    "for x in range(1500,2700):\n",
    "          if (x%7==0) and (x%5)==0:\n",
    "                    n.append(str(x))\n",
    "print(\",\".join(n))\n",
    "print(n)"
   ]
  },
  {
   "cell_type": "code",
   "execution_count": 2,
   "metadata": {},
   "outputs": [
    {
     "name": "stdout",
     "output_type": "stream",
     "text": [
      "Sum of First 10 Numbers: 45\n"
     ]
    }
   ],
   "source": [
    "# --------------Sum of First 10 Numbers --------------------\n",
    "sum = 0\n",
    "for i in range(1,10):\n",
    "    num = int(input(f'Enter {i} Number: '))\n",
    "    sum+=num\n",
    "print(f'Sum of First 10 Numbers: {sum}')"
   ]
  },
  {
   "cell_type": "code",
   "execution_count": 2,
   "metadata": {},
   "outputs": [
    {
     "name": "stdout",
     "output_type": "stream",
     "text": [
      "4.444444444444445°C is equal to 40 in Fehrenheit\n",
      "122.0°F is equal to 50  in Celcius\n"
     ]
    }
   ],
   "source": [
    "# 2. Write a Python program to convert temperatures to and from Celsius and Fahrenheit.\n",
    "# Fehrenhait to celcius\n",
    "f = int(input(\"Enter temperature of f: \"))\n",
    "c = (5/9) * (f - 32)\n",
    "# c = int(C)\n",
    "print(f\"{c}°C is equal to {f} in Fehrenheit\")\n",
    "\n",
    "# celcius to fehrainheit\n",
    "C = int(input(\"Enter temperature of c: \"))\n",
    "F = (C * 9/5) + 32\n",
    "\n",
    "print(f\"{F}°F is equal to {C}  in Celcius\")\n"
   ]
  },
  {
   "cell_type": "code",
   "execution_count": 3,
   "metadata": {},
   "outputs": [
    {
     "name": "stdout",
     "output_type": "stream",
     "text": [
      "Sorry wrong number\n",
      "Sorry wrong number\n",
      "Sorry wrong number\n",
      "Sorry wrong number\n",
      "8 is correct number \n"
     ]
    }
   ],
   "source": [
    "# 3. Write a Python program to guess a number between 1 and 9.\n",
    "# Note : User is prompted to enter a guess. If the user guesses wrong then the prompt appears again until the guess is correct, on successful guess, user will get a \"Well guessed!\" message, and the program will exit.\n",
    "\n",
    "target_number = 8\n",
    "user_input = int(input(\"Guess number between 1-9\"))\n",
    "while target_number != user_input:\n",
    "          print(\"Sorry wrong number\")\n",
    "          user_input = int(input(\"Guess other number\"))\n",
    "print(f\"{user_input} is correct number \")\n",
    "    \n"
   ]
  },
  {
   "cell_type": "code",
   "execution_count": 33,
   "metadata": {},
   "outputs": [
    {
     "name": "stdout",
     "output_type": "stream",
     "text": [
      "* \n",
      "* * \n",
      "* * * \n",
      "* * * * \n",
      "* * * * * \n",
      "* * * * \n",
      "* * * \n",
      "* * \n",
      "* \n"
     ]
    }
   ],
   "source": [
    "# 4. Write a Python program to construct the following pattern, using a nested for loop.\n",
    "'''\n",
    "* \n",
    "* * \n",
    "* * * \n",
    "* * * * \n",
    "* * * * * \n",
    "* * * * \n",
    "* * * \n",
    "* * \n",
    "*\n",
    "'''\n",
    "rows=5\n",
    "# Upper part of the pattern\n",
    "for i in range(1, rows + 1):\n",
    "    for j in range(1, i + 1):\n",
    "        print(\"*\", end=\" \")\n",
    "    print()\n",
    "\n",
    "# Lower part of the pattern\n",
    "for i in range(rows - 1, 0, -1):\n",
    "    for j in range(1, i + 1):\n",
    "        print(\"*\", end=\" \")\n",
    "    print()\n",
    "\n",
    "          \n",
    "\n"
   ]
  },
  {
   "cell_type": "code",
   "execution_count": 34,
   "metadata": {},
   "outputs": [
    {
     "name": "stdout",
     "output_type": "stream",
     "text": [
      "drow\n",
      " word\n"
     ]
    }
   ],
   "source": [
    "# 5. Write a Python program that accepts a word from the user and reverses it.\n",
    "word  = input(\"Enter a word\")\n",
    "for i in range(len(word)-1,-1,-1):\n",
    "          print(word[i], end=\"\")\n",
    "print(\"\\n\",word)"
   ]
  },
  {
   "cell_type": "code",
   "execution_count": 42,
   "metadata": {},
   "outputs": [
    {
     "name": "stdout",
     "output_type": "stream",
     "text": [
      "Number of even numbers :  4\n",
      "Number of odd numbers :  5\n"
     ]
    }
   ],
   "source": [
    "# 6. Write a Python program to count the number of even and odd numbers in a series of numbers\n",
    "# Sample numbers : numbers = (1, 2, 3, 4, 5, 6, 7, 8, 9) \n",
    "# Expected Output :\n",
    "# Number of even numbers : 5\n",
    "# Number of odd numbers : 4\n",
    "\n",
    "numbers = (1, 2, 3, 4, 5, 6, 7, 8, 9) \n",
    "\n",
    "\n",
    "count_odd = 0\n",
    "count_even = 0\n",
    "for i in numbers:\n",
    "          if i %2==0:\n",
    "                    count_even+=1\n",
    "          elif  i % 2!=0:\n",
    "                    count_odd+=1\n",
    "print(\"Number of even numbers : \",count_even)\n",
    "print(\"Number of odd numbers : \",count_odd)"
   ]
  },
  {
   "cell_type": "code",
   "execution_count": null,
   "metadata": {},
   "outputs": [
    {
     "name": "stdout",
     "output_type": "stream",
     "text": [
      "item =  1452\n",
      "type =  <class 'int'>\n",
      "item =  11.23\n",
      "type =  <class 'float'>\n",
      "item =  (1+2j)\n",
      "type =  <class 'complex'>\n",
      "item =  True\n",
      "type =  <class 'bool'>\n",
      "item =  w3resource\n",
      "type =  <class 'str'>\n",
      "item =  (0, -1)\n",
      "type =  <class 'tuple'>\n",
      "item =  [5, 12]\n",
      "type =  <class 'list'>\n",
      "item =  {'class': 'V', 'section': 'A'}\n",
      "type =  <class 'dict'>\n"
     ]
    }
   ],
   "source": [
    "# 7. Write a Python program that prints each item and its corresponding type from the following list.\n",
    "# Sample List : datalist = [1452, 11.23, 1+2j, True, 'w3resource', (0, -1), [5, 12], {\"class\":'V', \"section\":'A'}]\n",
    "datalist = [1452, 11.23, 1+2j, True, 'w3resource', (0, -1), [5, 12], {\"class\":'V', \"section\":'A'}]\n",
    "for i in datalist:\n",
    "          print(\"item = \",i)\n",
    "          print(\"type = \",type(i))"
   ]
  },
  {
   "cell_type": "code",
   "execution_count": 44,
   "metadata": {},
   "outputs": [
    {
     "name": "stdout",
     "output_type": "stream",
     "text": [
      "01345"
     ]
    }
   ],
   "source": [
    "# 8. Write a Python program that prints all the numbers from 0 to 6 except 3 and 6.\n",
    "# Note : Use 'continue' statement.\n",
    "# Expected Output : 0 1 2 4 5\n",
    "for i in range(7):\n",
    "          \n",
    "          if (i == 3 or i ==6 ):\n",
    "                    continue\n",
    "          print(i, end=\"\")\n",
    "          "
   ]
  },
  {
   "cell_type": "code",
   "execution_count": 59,
   "metadata": {},
   "outputs": [
    {
     "name": "stdout",
     "output_type": "stream",
     "text": [
      "1\n",
      "1\n",
      "2\n",
      "3\n",
      "5\n",
      "8\n",
      "13\n",
      "21\n",
      "34\n"
     ]
    }
   ],
   "source": [
    "# 9. Write a Python program to get the Fibonacci series between 0 and 50.\n",
    "# Note : The Fibonacci Sequence is the series of numbers :\n",
    "# 0, 1, 1, 2, 3, 5, 8, 13, 21, ....\n",
    "# Every next number is found by adding up the two numbers before it.\n",
    "# Expected Output : 1 1 2 3 5 8 13 21 34\n",
    "\n",
    "# Initialize variables 'x' and 'y' with values 0 and 1, respectively\n",
    "x=0\n",
    "y=1\n",
    "\n",
    "# Execute the while loop until the value of 'y' becomes greater than or equal to 50\n",
    "while y < 50:\n",
    "    # Print the current value of 'y'\n",
    "    print(y)\n",
    "    \n",
    "    # Update the values of 'x' and 'y' using simultaneous assignment,\n",
    "    # where 'x' becomes the previous value of 'y' and 'y' becomes the sum of 'x' and the previous value of 'y'\n",
    "    x, y = y, x + y\n",
    "    "
   ]
  }
 ],
 "metadata": {
  "kernelspec": {
   "display_name": "Python 3",
   "language": "python",
   "name": "python3"
  },
  "language_info": {
   "codemirror_mode": {
    "name": "ipython",
    "version": 3
   },
   "file_extension": ".py",
   "mimetype": "text/x-python",
   "name": "python",
   "nbconvert_exporter": "python",
   "pygments_lexer": "ipython3",
   "version": "3.11.2"
  }
 },
 "nbformat": 4,
 "nbformat_minor": 2
}
