{
 "cells": [
  {
   "cell_type": "code",
   "execution_count": 9,
   "metadata": {},
   "outputs": [
    {
     "name": "stdout",
     "output_type": "stream",
     "text": [
      "Cannot add more than two phone numbers for a contact.\n",
      "Contact Name: John Doe\n",
      "Phone Numbers:\n",
      "- 123-456-7890\n",
      "- 987-654-3210\n"
     ]
    }
   ],
   "source": [
    "#****************8oops papers*******************\n",
    "# Consider a cell phone where you save your Contacts. Suppose a person has two contact numbers. For the ease of accessibility, your cellphone provides you the functionality where you can save two numbers under the same name. Implement this scenario using the suitable principle of OOP.\n",
    "class Contact:\n",
    "    def __init__(self, name):\n",
    "        self.name = name\n",
    "        self.phone_numbers = []\n",
    "\n",
    "    def add_phone_number(self, phone_number):\n",
    "        if len(self.phone_numbers) < 2:\n",
    "            self.phone_numbers.append(phone_number)\n",
    "        else:\n",
    "            print(\"Cannot add more than two phone numbers for a contact.\")\n",
    "\n",
    "    def display_contact(self):\n",
    "        print(\"Contact Name:\", self.name)\n",
    "        print(\"Phone Numbers:\")\n",
    "        for number in self.phone_numbers:\n",
    "            print(\"-\", number)\n",
    "\n",
    "\n",
    "# Example usage:\n",
    "if __name__ == \"__main__\":\n",
    "    # Create a contact\n",
    "    john = Contact(\"John Doe\")\n",
    "\n",
    "    # Add phone numbers\n",
    "    john.add_phone_number(\"123-456-7890\")\n",
    "    john.add_phone_number(\"987-654-3210\")\n",
    "    john.add_phone_number(\"555-555-5555\")  # This won't be added\n",
    "\n",
    "    # Display contact details\n",
    "    john.display_contact()\n"
   ]
  },
  {
   "cell_type": "code",
   "execution_count": 3,
   "metadata": {},
   "outputs": [
    {
     "name": "stdout",
     "output_type": "stream",
     "text": [
      "Area of Triangle: 126.0\n"
     ]
    }
   ],
   "source": [
    "'''Create a class called 'SHAPE' (should be made an abstract\n",
    "(double). Height (double) with appropriate access specifiers and instance method Get Data() to get and assign the values (to length &Height) from the user. it also has an abstract method Display Area() to compute and display the area of the geometrical object. Derive two specific classes 'TRIANGLE' and 'RECTANGLE' from the base class that override the base class method Using these three classes design a program that will accept dimension of a triangle rectangle interactively and display the area\n",
    "Hint:\n",
    "Area of Triangle-1 2(L*h)\n",
    "Area of Rectangle-L*h'''\n",
    "from abc import ABC, abstractmethod\n",
    "\n",
    "class Shape(ABC):\n",
    "    def __init__(self):\n",
    "        self.length = 0\n",
    "        self.height = 0\n",
    "\n",
    "    def get_data(self):\n",
    "        self.length = float(input(\"Enter length: \"))\n",
    "        self.height = float(input(\"Enter height: \"))\n",
    "\n",
    "    @abstractmethod\n",
    "    def display_area(self):\n",
    "        pass\n",
    "\n",
    "class Triangle(Shape):\n",
    "    def display_area(self):\n",
    "        area = 0.5 * self.length * self.height\n",
    "        print(\"Area of Triangle:\", area)\n",
    "\n",
    "class Rectangle(Shape):\n",
    "    def display_area(self):\n",
    "        area = self.length * self.height\n",
    "        print(\"Area of Rectangle:\", area)\n",
    "\n",
    "# Main program\n",
    "if __name__ == \"__main__\":\n",
    "    shape_type = input(\"Enter shape (triangle/rectangle): \").lower()\n",
    "\n",
    "    if shape_type == \"triangle\":\n",
    "        shape = Triangle()\n",
    "    elif shape_type == \"rectangle\":\n",
    "        shape = Rectangle()\n",
    "    else:\n",
    "        print(\"Invalid shape entered.\")\n",
    "        exit()\n",
    "\n",
    "    shape.get_data()\n",
    "    shape.display_area()\n"
   ]
  },
  {
   "cell_type": "code",
   "execution_count": 8,
   "metadata": {},
   "outputs": [
    {
     "name": "stdout",
     "output_type": "stream",
     "text": [
      "Error: could not convert string to float: 'r'\n",
      "Error: could not convert string to float: '$'\n",
      "Complex Number: 43.0 + 43.0 i\n"
     ]
    }
   ],
   "source": [
    "'''Write a program in python create a Class complex having data members (real, imaginary). The class also should contain the constructor and method to read a complex number from user. The program should throw an exception if imaginary is negative.'''\n",
    "class Complex:\n",
    "    def __init__(self):\n",
    "        self.real = 0\n",
    "        self.imaginary = 0\n",
    "\n",
    "    def read_complex_number(self):\n",
    "        try:\n",
    "            self.real = float(input(\"Enter the real part: \"))\n",
    "            self.imaginary = float(input(\"Enter the imaginary part: \"))\n",
    "            if self.imaginary < 0:\n",
    "                raise ValueError(\"Imaginary part cannot be negative\")\n",
    "        except ValueError as e:\n",
    "            print(\"Error:\", e)\n",
    "            self.read_complex_number()\n",
    "\n",
    "    def display_complex_number(self):\n",
    "        print(\"Complex Number:\", self.real, \"+\", self.imaginary, \"i\")\n",
    "\n",
    "\n",
    "# Example usage:\n",
    "if __name__ == \"__main__\":\n",
    "    complex_number = Complex()\n",
    "    complex_number.read_complex_number()\n",
    "    complex_number.display_complex_number()\n"
   ]
  },
  {
   "cell_type": "code",
   "execution_count": 5,
   "metadata": {},
   "outputs": [
    {
     "name": "stdout",
     "output_type": "stream",
     "text": [
      "Error: Division by zero!\n"
     ]
    }
   ],
   "source": [
    "# Briefly explain the Exception handling and its types with the help of suitable examples\n",
    "try:\n",
    "    result = 10 / 0  # Division by zero raises an exception\n",
    "except ZeroDivisionError:\n",
    "    print(\"Error: Division by zero!\")\n"
   ]
  },
  {
   "cell_type": "code",
   "execution_count": null,
   "metadata": {},
   "outputs": [],
   "source": []
  }
 ],
 "metadata": {
  "kernelspec": {
   "display_name": "Python 3",
   "language": "python",
   "name": "python3"
  },
  "language_info": {
   "codemirror_mode": {
    "name": "ipython",
    "version": 3
   },
   "file_extension": ".py",
   "mimetype": "text/x-python",
   "name": "python",
   "nbconvert_exporter": "python",
   "pygments_lexer": "ipython3",
   "version": "3.11.2"
  }
 },
 "nbformat": 4,
 "nbformat_minor": 2
}
